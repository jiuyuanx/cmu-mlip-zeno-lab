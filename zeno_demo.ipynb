{
 "cells": [
  {
   "cell_type": "markdown",
   "metadata": {
    "id": "XHtaPysVSNZN"
   },
   "source": [
    "# Step 1 - Install the required dependencies and make sure the python version is 3.10 and above"
   ]
  },
  {
   "cell_type": "code",
   "execution_count": 1,
   "metadata": {},
   "outputs": [
    {
     "name": "stdout",
     "output_type": "stream",
     "text": [
      "Python 3.11.7\n"
     ]
    }
   ],
   "source": [
    "!python --version"
   ]
  },
  {
   "cell_type": "code",
   "execution_count": 2,
   "metadata": {
    "id": "APS6D3eiSAR_"
   },
   "outputs": [
    {
     "name": "stdout",
     "output_type": "stream",
     "text": [
      "Collecting zeno-client\n",
      "  Using cached zeno_client-0.1.16-py3-none-any.whl.metadata (2.1 kB)\n",
      "Collecting arrow-json<0.10.0,>=0.9.0 (from zeno-client)\n",
      "  Using cached arrow_json-0.9.0-cp37-abi3-macosx_10_9_x86_64.macosx_11_0_arm64.macosx_10_9_universal2.whl.metadata (1.5 kB)\n",
      "Collecting outdated>=0.2.0 (from zeno-client)\n",
      "  Using cached outdated-0.2.2-py2.py3-none-any.whl (7.5 kB)\n",
      "Collecting pandas>=1.4.3 (from zeno-client)\n",
      "  Downloading pandas-2.2.0-cp311-cp311-macosx_10_9_x86_64.whl.metadata (19 kB)\n",
      "Collecting pyarrow>=6.0.0 (from zeno-client)\n",
      "  Downloading pyarrow-15.0.0-cp311-cp311-macosx_10_15_x86_64.whl.metadata (3.0 kB)\n",
      "Collecting pydantic>=1.0 (from zeno-client)\n",
      "  Downloading pydantic-2.6.1-py3-none-any.whl.metadata (83 kB)\n",
      "\u001b[2K     \u001b[90m━━━━━━━━━━━━━━━━━━━━━━━━━━━━━━━━━━━━━━━━\u001b[0m \u001b[32m83.5/83.5 kB\u001b[0m \u001b[31m3.2 MB/s\u001b[0m eta \u001b[36m0:00:00\u001b[0m\n",
      "\u001b[?25hRequirement already satisfied: requests>=2.20.0 in /opt/anaconda3/envs/myenv/lib/python3.11/site-packages (from zeno-client) (2.31.0)\n",
      "Collecting tqdm>=4.1.0 (from zeno-client)\n",
      "  Downloading tqdm-4.66.1-py3-none-any.whl.metadata (57 kB)\n",
      "\u001b[2K     \u001b[90m━━━━━━━━━━━━━━━━━━━━━━━━━━━━━━━━━━━━━━━━\u001b[0m \u001b[32m57.6/57.6 kB\u001b[0m \u001b[31m7.2 MB/s\u001b[0m eta \u001b[36m0:00:00\u001b[0m\n",
      "\u001b[?25hRequirement already satisfied: setuptools>=44 in /opt/anaconda3/envs/myenv/lib/python3.11/site-packages (from outdated>=0.2.0->zeno-client) (68.2.2)\n",
      "Collecting littleutils (from outdated>=0.2.0->zeno-client)\n",
      "  Using cached littleutils-0.2.2.tar.gz (6.6 kB)\n",
      "  Preparing metadata (setup.py) ... \u001b[?25ldone\n",
      "\u001b[?25hCollecting numpy<2,>=1.23.2 (from pandas>=1.4.3->zeno-client)\n",
      "  Downloading numpy-1.26.4-cp311-cp311-macosx_10_9_x86_64.whl.metadata (61 kB)\n",
      "\u001b[2K     \u001b[90m━━━━━━━━━━━━━━━━━━━━━━━━━━━━━━━━━━━━━━━━\u001b[0m \u001b[32m61.1/61.1 kB\u001b[0m \u001b[31m7.0 MB/s\u001b[0m eta \u001b[36m0:00:00\u001b[0m\n",
      "\u001b[?25hRequirement already satisfied: python-dateutil>=2.8.2 in /opt/anaconda3/envs/myenv/lib/python3.11/site-packages (from pandas>=1.4.3->zeno-client) (2.8.2)\n",
      "Requirement already satisfied: pytz>=2020.1 in /opt/anaconda3/envs/myenv/lib/python3.11/site-packages (from pandas>=1.4.3->zeno-client) (2023.3.post1)\n",
      "Collecting tzdata>=2022.7 (from pandas>=1.4.3->zeno-client)\n",
      "  Downloading tzdata-2023.4-py2.py3-none-any.whl.metadata (1.4 kB)\n",
      "Collecting annotated-types>=0.4.0 (from pydantic>=1.0->zeno-client)\n",
      "  Downloading annotated_types-0.6.0-py3-none-any.whl.metadata (12 kB)\n",
      "Collecting pydantic-core==2.16.2 (from pydantic>=1.0->zeno-client)\n",
      "  Downloading pydantic_core-2.16.2-cp311-cp311-macosx_10_12_x86_64.whl.metadata (6.5 kB)\n",
      "Requirement already satisfied: typing-extensions>=4.6.1 in /opt/anaconda3/envs/myenv/lib/python3.11/site-packages (from pydantic>=1.0->zeno-client) (4.9.0)\n",
      "Requirement already satisfied: charset-normalizer<4,>=2 in /opt/anaconda3/envs/myenv/lib/python3.11/site-packages (from requests>=2.20.0->zeno-client) (2.0.4)\n",
      "Requirement already satisfied: idna<4,>=2.5 in /opt/anaconda3/envs/myenv/lib/python3.11/site-packages (from requests>=2.20.0->zeno-client) (3.4)\n",
      "Requirement already satisfied: urllib3<3,>=1.21.1 in /opt/anaconda3/envs/myenv/lib/python3.11/site-packages (from requests>=2.20.0->zeno-client) (2.1.0)\n",
      "Requirement already satisfied: certifi>=2017.4.17 in /opt/anaconda3/envs/myenv/lib/python3.11/site-packages (from requests>=2.20.0->zeno-client) (2024.2.2)\n",
      "Requirement already satisfied: six>=1.5 in /opt/anaconda3/envs/myenv/lib/python3.11/site-packages (from python-dateutil>=2.8.2->pandas>=1.4.3->zeno-client) (1.16.0)\n",
      "Using cached zeno_client-0.1.16-py3-none-any.whl (7.3 kB)\n",
      "Using cached arrow_json-0.9.0-cp37-abi3-macosx_10_9_x86_64.macosx_11_0_arm64.macosx_10_9_universal2.whl (2.5 MB)\n",
      "Downloading pandas-2.2.0-cp311-cp311-macosx_10_9_x86_64.whl (12.5 MB)\n",
      "\u001b[2K   \u001b[90m━━━━━━━━━━━━━━━━━━━━━━━━━━━━━━━━━━━━━━━━\u001b[0m \u001b[32m12.5/12.5 MB\u001b[0m \u001b[31m30.2 MB/s\u001b[0m eta \u001b[36m0:00:00\u001b[0ma \u001b[36m0:00:01\u001b[0m\n",
      "\u001b[?25hDownloading pyarrow-15.0.0-cp311-cp311-macosx_10_15_x86_64.whl (27.2 MB)\n",
      "\u001b[2K   \u001b[90m━━━━━━━━━━━━━━━━━━━━━━━━━━━━━━━━━━━━━━━━\u001b[0m \u001b[32m27.2/27.2 MB\u001b[0m \u001b[31m23.4 MB/s\u001b[0m eta \u001b[36m0:00:00\u001b[0m00:01\u001b[0m00:01\u001b[0m\n",
      "\u001b[?25hDownloading pydantic-2.6.1-py3-none-any.whl (394 kB)\n",
      "\u001b[2K   \u001b[90m━━━━━━━━━━━━━━━━━━━━━━━━━━━━━━━━━━━━━━━━\u001b[0m \u001b[32m394.8/394.8 kB\u001b[0m \u001b[31m22.8 MB/s\u001b[0m eta \u001b[36m0:00:00\u001b[0m\n",
      "\u001b[?25hDownloading pydantic_core-2.16.2-cp311-cp311-macosx_10_12_x86_64.whl (1.9 MB)\n",
      "\u001b[2K   \u001b[90m━━━━━━━━━━━━━━━━━━━━━━━━━━━━━━━━━━━━━━━━\u001b[0m \u001b[32m1.9/1.9 MB\u001b[0m \u001b[31m24.8 MB/s\u001b[0m eta \u001b[36m0:00:00\u001b[0ma \u001b[36m0:00:01\u001b[0m\n",
      "\u001b[?25hDownloading tqdm-4.66.1-py3-none-any.whl (78 kB)\n",
      "\u001b[2K   \u001b[90m━━━━━━━━━━━━━━━━━━━━━━━━━━━━━━━━━━━━━━━━\u001b[0m \u001b[32m78.3/78.3 kB\u001b[0m \u001b[31m7.1 MB/s\u001b[0m eta \u001b[36m0:00:00\u001b[0m\n",
      "\u001b[?25hDownloading annotated_types-0.6.0-py3-none-any.whl (12 kB)\n",
      "Downloading numpy-1.26.4-cp311-cp311-macosx_10_9_x86_64.whl (20.6 MB)\n",
      "\u001b[2K   \u001b[90m━━━━━━━━━━━━━━━━━━━━━━━━━━━━━━━━━━━━━━━━\u001b[0m \u001b[32m20.6/20.6 MB\u001b[0m \u001b[31m24.4 MB/s\u001b[0m eta \u001b[36m0:00:00\u001b[0m00:01\u001b[0m00:01\u001b[0m\n",
      "\u001b[?25hDownloading tzdata-2023.4-py2.py3-none-any.whl (346 kB)\n",
      "\u001b[2K   \u001b[90m━━━━━━━━━━━━━━━━━━━━━━━━━━━━━━━━━━━━━━━━\u001b[0m \u001b[32m346.6/346.6 kB\u001b[0m \u001b[31m16.2 MB/s\u001b[0m eta \u001b[36m0:00:00\u001b[0m\n",
      "\u001b[?25hBuilding wheels for collected packages: littleutils\n",
      "  Building wheel for littleutils (setup.py) ... \u001b[?25ldone\n",
      "\u001b[?25h  Created wheel for littleutils: filename=littleutils-0.2.2-py3-none-any.whl size=7028 sha256=77981666a399b05b5549d2e9c6c228790e4e4af38ff626fa488e843033f7072c\n",
      "  Stored in directory: /Users/jiuyuanxie/Library/Caches/pip/wheels/17/8d/65/9a39917567093c895549811c172be5d2dfb63c7e4b143e05a4\n",
      "Successfully built littleutils\n",
      "Installing collected packages: littleutils, tzdata, tqdm, pydantic-core, numpy, annotated-types, pydantic, pyarrow, pandas, outdated, arrow-json, zeno-client\n",
      "Successfully installed annotated-types-0.6.0 arrow-json-0.9.0 littleutils-0.2.2 numpy-1.26.4 outdated-0.2.2 pandas-2.2.0 pyarrow-15.0.0 pydantic-2.6.1 pydantic-core-2.16.2 tqdm-4.66.1 tzdata-2023.4 zeno-client-0.1.16\n",
      "Requirement already satisfied: pip in /opt/anaconda3/envs/myenv/lib/python3.11/site-packages (23.3.1)\n",
      "Collecting pip\n",
      "  Using cached pip-24.0-py3-none-any.whl.metadata (3.6 kB)\n",
      "Using cached pip-24.0-py3-none-any.whl (2.1 MB)\n",
      "Installing collected packages: pip\n",
      "  Attempting uninstall: pip\n",
      "    Found existing installation: pip 23.3.1\n",
      "    Uninstalling pip-23.3.1:\n",
      "      Successfully uninstalled pip-23.3.1\n",
      "Successfully installed pip-24.0\n",
      "Collecting bottleneck\n",
      "  Downloading Bottleneck-1.3.7-cp311-cp311-macosx_10_9_x86_64.whl (114 kB)\n",
      "\u001b[2K     \u001b[90m━━━━━━━━━━━━━━━━━━━━━━━━━━━━━━━━━━━━━━━\u001b[0m \u001b[32m115.0/115.0 kB\u001b[0m \u001b[31m2.6 MB/s\u001b[0m eta \u001b[36m0:00:00\u001b[0m00:01\u001b[0m\n",
      "\u001b[?25hRequirement already satisfied: numpy in /opt/anaconda3/envs/myenv/lib/python3.11/site-packages (from bottleneck) (1.26.4)\n",
      "Installing collected packages: bottleneck\n",
      "Successfully installed bottleneck-1.3.7\n",
      "Collecting langdetect\n",
      "  Using cached langdetect-1.0.9.tar.gz (981 kB)\n",
      "  Preparing metadata (setup.py) ... \u001b[?25ldone\n",
      "\u001b[?25hRequirement already satisfied: six in /opt/anaconda3/envs/myenv/lib/python3.11/site-packages (from langdetect) (1.16.0)\n",
      "Building wheels for collected packages: langdetect\n",
      "  Building wheel for langdetect (setup.py) ... \u001b[?25ldone\n",
      "\u001b[?25h  Created wheel for langdetect: filename=langdetect-1.0.9-py3-none-any.whl size=993224 sha256=5846bcdf0fb792673b66662d63da76ebde60f99480651afc45fee2d4e5e58dc1\n",
      "  Stored in directory: /Users/jiuyuanxie/Library/Caches/pip/wheels/0a/f2/b2/e5ca405801e05eb7c8ed5b3b4bcf1fcabcd6272c167640072e\n",
      "Successfully built langdetect\n",
      "Installing collected packages: langdetect\n",
      "Successfully installed langdetect-1.0.9\n"
     ]
    }
   ],
   "source": [
    "!pip install zeno-client\n",
    "!pip install --upgrade pip\n",
    "!pip install --upgrade bottleneck\n",
    "!pip install langdetect\n"
   ]
  },
  {
   "cell_type": "code",
   "execution_count": 3,
   "metadata": {
    "colab": {
     "base_uri": "https://localhost:8080/"
    },
    "id": "CRrMiMnLV9xY",
    "outputId": "5193e819-f2cb-4032-99df-ced1ea7b4191"
   },
   "outputs": [
    {
     "name": "stdout",
     "output_type": "stream",
     "text": [
      "Python 3.11.7\n"
     ]
    }
   ],
   "source": [
    "!python --version"
   ]
  },
  {
   "cell_type": "code",
   "execution_count": 4,
   "metadata": {
    "id": "wHMa3ItBSSdu"
   },
   "outputs": [],
   "source": [
    "from zeno_client import ZenoClient, ZenoMetric\n",
    "import pandas as pd\n",
    "\n",
    "# Initialize a client with our API key.\n",
    "client = ZenoClient(\"zen_LaIIhmwzEDQaoUW3J_AjSSLCM1yLvw2fkCG8dzMicLE\")\n"
   ]
  },
  {
   "cell_type": "markdown",
   "metadata": {
    "id": "bwOPnZ1vSfWt"
   },
   "source": [
    "# Step 2 - Create a project"
   ]
  },
  {
   "cell_type": "markdown",
   "metadata": {
    "id": "c-lh1yUhXjsd"
   },
   "source": [
    "# Step 3 - Create dataset"
   ]
  },
  {
   "cell_type": "code",
   "execution_count": 26,
   "metadata": {
    "id": "s4x_f9QqSjHT"
   },
   "outputs": [],
   "source": [
    "import pandas as pd\n",
    "from langdetect import detect\n",
    "from collections import Counter\n",
    "import random\n",
    "\n",
    "# Sample language detection function\n",
    "def detect_language(text):\n",
    "    try:\n",
    "        return detect(text)\n",
    "    except:\n",
    "        return \"Unknown\"\n",
    "\n",
    "# Create a Pandas DataFrame for the biased dataset of movies\n",
    "df = pd.DataFrame(\n",
    "    {\n",
    "        \"id\": range(1, 11),  # Using only 10 instances for demonstration\n",
    "        \"text\": [\n",
    "            \"I love this movie!\",\n",
    "            \"¡Odio esta película!\",\n",
    "            \"Ce film est ok.\",\n",
    "            \"The acting was great!\",\n",
    "            \"The plot was confusing.\",\n",
    "            \"I really enjoyed it!\",\n",
    "            \"Worst movie ever!\",\n",
    "            \"Not bad, but could be better.\",\n",
    "            \"A masterpiece!\",\n",
    "            \"I didn't like it.\",\n",
    "        ],\n",
    "        \"genre\": [\"action\", \"drama\", \"comedy\", \"action\", \"drama\", \"action\", \"drama\", \"comedy\", \"action\", \"drama\"],\n",
    "        \"year\": [random.choice([2020, 2021, 2022]) for _ in range(10)],  # Randomly select year\n",
    "        \"label\": [\"positive\", \"negative\", \"neutral\", \"positive\", \"negative\", \"positive\", \"negative\", \"neutral\", \"positive\", \"negative\"],\n",
    "    }\n",
    ")\n",
    "\n",
    "# Introduce biases in genre\n",
    "biased_genre = [\"action\", \"action\", \"drama\", \"drama\", \"comedy\", \"comedy\", \"comedy\", \"comedy\", \"drama\", \"drama\"]\n",
    "df[\"biased_genre\"] = biased_genre\n",
    "\n",
    "# Introduce biases in year\n",
    "biased_year = [2020, 2020, 2020, 2021, 2021, 2021, 2022, 2022, 2022, 2022]\n",
    "df[\"biased_year\"] = biased_year\n",
    "\n",
    "# Add language detection to create a new column\n",
    "df[\"detected_language\"] = df[\"text\"].apply(detect_language)\n",
    "\n",
    "# Add additional columns for analysis\n",
    "df[\"input_length\"] = df[\"text\"].str.len()\n",
    "\n",
    "#Uncomment the following line\n",
    "df[\"avg_length_ratio\"] = df[\"input_length\"]/df[\"text\"].str.split().apply(len)\n",
    "\n"
   ]
  },
  {
   "cell_type": "code",
   "execution_count": 27,
   "metadata": {},
   "outputs": [
    {
     "data": {
      "text/plain": [
       "0    4\n",
       "1    3\n",
       "2    4\n",
       "3    4\n",
       "4    4\n",
       "5    4\n",
       "6    3\n",
       "7    6\n",
       "8    2\n",
       "9    4\n",
       "Name: text, dtype: int64"
      ]
     },
     "execution_count": 27,
     "metadata": {},
     "output_type": "execute_result"
    }
   ],
   "source": [
    "df[\"text\"].str.split().apply(len)"
   ]
  },
  {
   "cell_type": "code",
   "execution_count": 28,
   "metadata": {},
   "outputs": [
    {
     "data": {
      "text/html": [
       "<div>\n",
       "<style scoped>\n",
       "    .dataframe tbody tr th:only-of-type {\n",
       "        vertical-align: middle;\n",
       "    }\n",
       "\n",
       "    .dataframe tbody tr th {\n",
       "        vertical-align: top;\n",
       "    }\n",
       "\n",
       "    .dataframe thead th {\n",
       "        text-align: right;\n",
       "    }\n",
       "</style>\n",
       "<table border=\"1\" class=\"dataframe\">\n",
       "  <thead>\n",
       "    <tr style=\"text-align: right;\">\n",
       "      <th></th>\n",
       "      <th>id</th>\n",
       "      <th>text</th>\n",
       "      <th>genre</th>\n",
       "      <th>year</th>\n",
       "      <th>label</th>\n",
       "      <th>biased_genre</th>\n",
       "      <th>biased_year</th>\n",
       "      <th>detected_language</th>\n",
       "      <th>input_length</th>\n",
       "      <th>avg_length_ratio</th>\n",
       "    </tr>\n",
       "  </thead>\n",
       "  <tbody>\n",
       "    <tr>\n",
       "      <th>0</th>\n",
       "      <td>1</td>\n",
       "      <td>I love this movie!</td>\n",
       "      <td>action</td>\n",
       "      <td>2021</td>\n",
       "      <td>positive</td>\n",
       "      <td>action</td>\n",
       "      <td>2020</td>\n",
       "      <td>en</td>\n",
       "      <td>18</td>\n",
       "      <td>4.500000</td>\n",
       "    </tr>\n",
       "    <tr>\n",
       "      <th>1</th>\n",
       "      <td>2</td>\n",
       "      <td>¡Odio esta película!</td>\n",
       "      <td>drama</td>\n",
       "      <td>2021</td>\n",
       "      <td>negative</td>\n",
       "      <td>action</td>\n",
       "      <td>2020</td>\n",
       "      <td>es</td>\n",
       "      <td>20</td>\n",
       "      <td>6.666667</td>\n",
       "    </tr>\n",
       "    <tr>\n",
       "      <th>2</th>\n",
       "      <td>3</td>\n",
       "      <td>Ce film est ok.</td>\n",
       "      <td>comedy</td>\n",
       "      <td>2022</td>\n",
       "      <td>neutral</td>\n",
       "      <td>drama</td>\n",
       "      <td>2020</td>\n",
       "      <td>fr</td>\n",
       "      <td>15</td>\n",
       "      <td>3.750000</td>\n",
       "    </tr>\n",
       "    <tr>\n",
       "      <th>3</th>\n",
       "      <td>4</td>\n",
       "      <td>The acting was great!</td>\n",
       "      <td>action</td>\n",
       "      <td>2021</td>\n",
       "      <td>positive</td>\n",
       "      <td>drama</td>\n",
       "      <td>2021</td>\n",
       "      <td>en</td>\n",
       "      <td>21</td>\n",
       "      <td>5.250000</td>\n",
       "    </tr>\n",
       "    <tr>\n",
       "      <th>4</th>\n",
       "      <td>5</td>\n",
       "      <td>The plot was confusing.</td>\n",
       "      <td>drama</td>\n",
       "      <td>2022</td>\n",
       "      <td>negative</td>\n",
       "      <td>comedy</td>\n",
       "      <td>2021</td>\n",
       "      <td>en</td>\n",
       "      <td>23</td>\n",
       "      <td>5.750000</td>\n",
       "    </tr>\n",
       "    <tr>\n",
       "      <th>5</th>\n",
       "      <td>6</td>\n",
       "      <td>I really enjoyed it!</td>\n",
       "      <td>action</td>\n",
       "      <td>2022</td>\n",
       "      <td>positive</td>\n",
       "      <td>comedy</td>\n",
       "      <td>2021</td>\n",
       "      <td>en</td>\n",
       "      <td>20</td>\n",
       "      <td>5.000000</td>\n",
       "    </tr>\n",
       "    <tr>\n",
       "      <th>6</th>\n",
       "      <td>7</td>\n",
       "      <td>Worst movie ever!</td>\n",
       "      <td>drama</td>\n",
       "      <td>2021</td>\n",
       "      <td>negative</td>\n",
       "      <td>comedy</td>\n",
       "      <td>2022</td>\n",
       "      <td>af</td>\n",
       "      <td>17</td>\n",
       "      <td>5.666667</td>\n",
       "    </tr>\n",
       "    <tr>\n",
       "      <th>7</th>\n",
       "      <td>8</td>\n",
       "      <td>Not bad, but could be better.</td>\n",
       "      <td>comedy</td>\n",
       "      <td>2021</td>\n",
       "      <td>neutral</td>\n",
       "      <td>comedy</td>\n",
       "      <td>2022</td>\n",
       "      <td>en</td>\n",
       "      <td>29</td>\n",
       "      <td>4.833333</td>\n",
       "    </tr>\n",
       "    <tr>\n",
       "      <th>8</th>\n",
       "      <td>9</td>\n",
       "      <td>A masterpiece!</td>\n",
       "      <td>action</td>\n",
       "      <td>2022</td>\n",
       "      <td>positive</td>\n",
       "      <td>drama</td>\n",
       "      <td>2022</td>\n",
       "      <td>ro</td>\n",
       "      <td>14</td>\n",
       "      <td>7.000000</td>\n",
       "    </tr>\n",
       "    <tr>\n",
       "      <th>9</th>\n",
       "      <td>10</td>\n",
       "      <td>I didn't like it.</td>\n",
       "      <td>drama</td>\n",
       "      <td>2021</td>\n",
       "      <td>negative</td>\n",
       "      <td>drama</td>\n",
       "      <td>2022</td>\n",
       "      <td>af</td>\n",
       "      <td>17</td>\n",
       "      <td>4.250000</td>\n",
       "    </tr>\n",
       "  </tbody>\n",
       "</table>\n",
       "</div>"
      ],
      "text/plain": [
       "   id                           text   genre  year     label biased_genre  \\\n",
       "0   1             I love this movie!  action  2021  positive       action   \n",
       "1   2           ¡Odio esta película!   drama  2021  negative       action   \n",
       "2   3                Ce film est ok.  comedy  2022   neutral        drama   \n",
       "3   4          The acting was great!  action  2021  positive        drama   \n",
       "4   5        The plot was confusing.   drama  2022  negative       comedy   \n",
       "5   6           I really enjoyed it!  action  2022  positive       comedy   \n",
       "6   7              Worst movie ever!   drama  2021  negative       comedy   \n",
       "7   8  Not bad, but could be better.  comedy  2021   neutral       comedy   \n",
       "8   9                 A masterpiece!  action  2022  positive        drama   \n",
       "9  10              I didn't like it.   drama  2021  negative        drama   \n",
       "\n",
       "   biased_year detected_language  input_length  avg_length_ratio  \n",
       "0         2020                en            18          4.500000  \n",
       "1         2020                es            20          6.666667  \n",
       "2         2020                fr            15          3.750000  \n",
       "3         2021                en            21          5.250000  \n",
       "4         2021                en            23          5.750000  \n",
       "5         2021                en            20          5.000000  \n",
       "6         2022                af            17          5.666667  \n",
       "7         2022                en            29          4.833333  \n",
       "8         2022                ro            14          7.000000  \n",
       "9         2022                af            17          4.250000  "
      ]
     },
     "execution_count": 28,
     "metadata": {},
     "output_type": "execute_result"
    }
   ],
   "source": [
    "df"
   ]
  },
  {
   "cell_type": "markdown",
   "metadata": {
    "id": "9MRmyxrQX0-v"
   },
   "source": [
    "# Step 4 - Upload the Base Dataset\n"
   ]
  },
  {
   "cell_type": "code",
   "execution_count": 16,
   "metadata": {
    "id": "gX5H6b9mXxyW"
   },
   "outputs": [
    {
     "name": "stderr",
     "output_type": "stream",
     "text": [
      "/opt/anaconda3/envs/myenv/lib/python3.11/site-packages/zeno_client/util.py:25: FutureWarning: Setting an item of incompatible dtype is deprecated and will raise in a future error of pandas. Value '['1' '2' '3' '4' '5' '6' '7' '8' '9' '10']' has dtype incompatible with int64, please explicitly cast to a compatible dtype first.\n",
      "  df.loc[:, id_column] = df[id_column].astype(str)\n"
     ]
    },
    {
     "data": {
      "application/vnd.jupyter.widget-view+json": {
       "model_id": "fa1a34ac188444a3bcffeebe50aa6d94",
       "version_major": 2,
       "version_minor": 0
      },
      "text/plain": [
       "  0%|          | 0/1 [00:00<?, ?it/s]"
      ]
     },
     "metadata": {},
     "output_type": "display_data"
    },
    {
     "name": "stdout",
     "output_type": "stream",
     "text": [
      "Successfully uploaded data\n"
     ]
    }
   ],
   "source": [
    "\n",
    "project.upload_dataset(df, id_column=\"id\", data_column=\"text\", label_column=\"label\")\n",
    "\n"
   ]
  },
  {
   "cell_type": "markdown",
   "metadata": {
    "id": "22toUe1iX_Se"
   },
   "source": [
    "# Step 5 - Upload the AI System Outputs\n"
   ]
  },
  {
   "cell_type": "code",
   "execution_count": 17,
   "metadata": {
    "id": "Rj6kOAkAXzBN"
   },
   "outputs": [],
   "source": [
    "# For demonstration, let's assume we have system predictions\n",
    "df_system = pd.DataFrame(\n",
    "    {\n",
    "        \"output\": [\"positive\", \"negative\", \"negative\", \"positive\", \"negative\", \"positive\", \"negative\", \"neutral\", \"positive\", \"negative\"],\n",
    "    }\n",
    ")\n",
    "\n",
    "# Create an id column to match the base dataset\n",
    "df_system[\"id\"] = df_system.index + 1\n",
    "\n",
    "# Measure accuracy for each instance, which is averaged by the ZenoMetric above\n",
    "df_system[\"correct\"] = (df_system[\"output\"] == df[\"label\"]).astype(int)\n",
    "\n"
   ]
  },
  {
   "cell_type": "code",
   "execution_count": 20,
   "metadata": {},
   "outputs": [
    {
     "data": {
      "text/html": [
       "<div>\n",
       "<style scoped>\n",
       "    .dataframe tbody tr th:only-of-type {\n",
       "        vertical-align: middle;\n",
       "    }\n",
       "\n",
       "    .dataframe tbody tr th {\n",
       "        vertical-align: top;\n",
       "    }\n",
       "\n",
       "    .dataframe thead th {\n",
       "        text-align: right;\n",
       "    }\n",
       "</style>\n",
       "<table border=\"1\" class=\"dataframe\">\n",
       "  <thead>\n",
       "    <tr style=\"text-align: right;\">\n",
       "      <th></th>\n",
       "      <th>output</th>\n",
       "      <th>id</th>\n",
       "      <th>correct</th>\n",
       "    </tr>\n",
       "  </thead>\n",
       "  <tbody>\n",
       "    <tr>\n",
       "      <th>0</th>\n",
       "      <td>positive</td>\n",
       "      <td>1</td>\n",
       "      <td>1</td>\n",
       "    </tr>\n",
       "    <tr>\n",
       "      <th>1</th>\n",
       "      <td>negative</td>\n",
       "      <td>2</td>\n",
       "      <td>1</td>\n",
       "    </tr>\n",
       "    <tr>\n",
       "      <th>2</th>\n",
       "      <td>negative</td>\n",
       "      <td>3</td>\n",
       "      <td>0</td>\n",
       "    </tr>\n",
       "    <tr>\n",
       "      <th>3</th>\n",
       "      <td>positive</td>\n",
       "      <td>4</td>\n",
       "      <td>1</td>\n",
       "    </tr>\n",
       "    <tr>\n",
       "      <th>4</th>\n",
       "      <td>negative</td>\n",
       "      <td>5</td>\n",
       "      <td>1</td>\n",
       "    </tr>\n",
       "    <tr>\n",
       "      <th>5</th>\n",
       "      <td>positive</td>\n",
       "      <td>6</td>\n",
       "      <td>1</td>\n",
       "    </tr>\n",
       "    <tr>\n",
       "      <th>6</th>\n",
       "      <td>negative</td>\n",
       "      <td>7</td>\n",
       "      <td>1</td>\n",
       "    </tr>\n",
       "    <tr>\n",
       "      <th>7</th>\n",
       "      <td>neutral</td>\n",
       "      <td>8</td>\n",
       "      <td>1</td>\n",
       "    </tr>\n",
       "    <tr>\n",
       "      <th>8</th>\n",
       "      <td>positive</td>\n",
       "      <td>9</td>\n",
       "      <td>1</td>\n",
       "    </tr>\n",
       "    <tr>\n",
       "      <th>9</th>\n",
       "      <td>negative</td>\n",
       "      <td>10</td>\n",
       "      <td>1</td>\n",
       "    </tr>\n",
       "  </tbody>\n",
       "</table>\n",
       "</div>"
      ],
      "text/plain": [
       "     output  id  correct\n",
       "0  positive   1        1\n",
       "1  negative   2        1\n",
       "2  negative   3        0\n",
       "3  positive   4        1\n",
       "4  negative   5        1\n",
       "5  positive   6        1\n",
       "6  negative   7        1\n",
       "7   neutral   8        1\n",
       "8  positive   9        1\n",
       "9  negative  10        1"
      ]
     },
     "execution_count": 20,
     "metadata": {},
     "output_type": "execute_result"
    }
   ],
   "source": [
    "df_system"
   ]
  },
  {
   "cell_type": "markdown",
   "metadata": {
    "id": "wemoUlruYE2p"
   },
   "source": [
    "# Step 6 - Upload the system outputs\n"
   ]
  },
  {
   "cell_type": "code",
   "execution_count": 18,
   "metadata": {
    "id": "VkYtYnuBYEAR"
   },
   "outputs": [
    {
     "name": "stderr",
     "output_type": "stream",
     "text": [
      "/opt/anaconda3/envs/myenv/lib/python3.11/site-packages/zeno_client/util.py:25: FutureWarning: Setting an item of incompatible dtype is deprecated and will raise in a future error of pandas. Value '['1' '2' '3' '4' '5' '6' '7' '8' '9' '10']' has dtype incompatible with int64, please explicitly cast to a compatible dtype first.\n",
      "  df.loc[:, id_column] = df[id_column].astype(str)\n"
     ]
    },
    {
     "data": {
      "application/vnd.jupyter.widget-view+json": {
       "model_id": "fb4a4f64aa0e469a94f8de42e78c7778",
       "version_major": 2,
       "version_minor": 0
      },
      "text/plain": [
       "  0%|          | 0/1 [00:00<?, ?it/s]"
      ]
     },
     "metadata": {},
     "output_type": "display_data"
    },
    {
     "name": "stdout",
     "output_type": "stream",
     "text": [
      "Successfully uploaded system\n"
     ]
    }
   ],
   "source": [
    "project.upload_system(df_system, name=\"System A\", id_column=\"id\", output_column=\"output\")"
   ]
  },
  {
   "cell_type": "code",
   "execution_count": null,
   "metadata": {},
   "outputs": [],
   "source": []
  }
 ],
 "metadata": {
  "colab": {
   "provenance": []
  },
  "kernelspec": {
   "display_name": "Python 3 (ipykernel)",
   "language": "python",
   "name": "python3"
  },
  "language_info": {
   "codemirror_mode": {
    "name": "ipython",
    "version": 3
   },
   "file_extension": ".py",
   "mimetype": "text/x-python",
   "name": "python",
   "nbconvert_exporter": "python",
   "pygments_lexer": "ipython3",
   "version": "3.11.7"
  }
 },
 "nbformat": 4,
 "nbformat_minor": 4
}
